{
 "cells": [
  {
   "cell_type": "code",
   "execution_count": 1,
   "metadata": {},
   "outputs": [
    {
     "name": "stderr",
     "output_type": "stream",
     "text": [
      "/var/folders/gj/ns_zjdqx57b1mrqf3l8_rcd40000gp/T/ipykernel_98474/967003846.py:11: DeprecationWarning: Please use `asmatrix` from the `scipy.sparse` namespace, the `scipy.sparse.sputils` namespace is deprecated.\n",
      "  from scipy.sparse.sputils import asmatrix\n"
     ]
    }
   ],
   "source": [
    "import copy \n",
    "import time\n",
    "import pickle \n",
    "import warnings\n",
    "import scipy\n",
    "import scipy.sparse\n",
    "import scipy.sparse.linalg\n",
    "from collections import defaultdict, OrderedDict\n",
    "\n",
    "from numpy import matrix, asmatrix\n",
    "from scipy.sparse.sputils import asmatrix\n",
    "\n",
    "import torch\n",
    "import random\n",
    "import numpy as np\n",
    "import fastmat as fm  # need 0.2a3 or later?\n",
    "\n",
    "import matplotlib.gridspec as gridspec\n",
    "warnings.filterwarnings(\"ignore\")\n",
    "from pylab import rcParams\n",
    "from matplotlib import container\n",
    "from matplotlib import pyplot as plt\n",
    "from IPython.core.display import  HTML\n",
    "from matplotlib import cm # Colormaps\n",
    "\n",
    "import os, sys\n",
    "module_path = os.path.abspath(os.path.join('../'))\n",
    "if module_path not in sys.path:\n",
    "    sys.path.append(module_path)\n",
    "os.environ['PRJ'] = \"~/skisg/\"\n",
    "sys.path.append(os.environ['PRJ'])\n",
    "\n",
    "random.seed(1337)\n",
    "np.random.seed(1337)\n",
    "\n",
    "%load_ext autoreload\n",
    "%autoreload 2"
   ]
  },
  {
   "cell_type": "code",
   "execution_count": 2,
   "metadata": {},
   "outputs": [],
   "source": [
    "import gpytorch as gp\n",
    "\n",
    "from skisg.interp.sparse.sglocations import get_sg_points_nd, help_get_sg_points_nd\n",
    "from skisg.interp.sparse.sgindices import lexorder_matrix, compute_LI, compute_levels\n",
    "from skisg.interp.sparse.construct import sparse_grid_size_table\n",
    "\n",
    "from skisg.config import SgBasisType, InterpType, SobolevKernType\n",
    "\n",
    "from skisg.interp.sginterp import SparseInterpolation\n",
    "\n",
    "import skisg.utils as utils\n",
    "\n",
    "from skisg.interp.sparse.weights import compute_W\n",
    "import skisg.config as config"
   ]
  },
  {
   "cell_type": "code",
   "execution_count": 4,
   "metadata": {},
   "outputs": [
    {
     "data": {
      "image/png": "[encoded data removed]",
      "text/plain": [
       "<Figure size 800x800 with 4 Axes>"
      ]
     },
     "metadata": {},
     "output_type": "display_data"
    },
    {
     "name": "stdout",
     "output_type": "stream",
     "text": [
      "GL 8 MSE: 0.017134607886408484 0.626157201421013\n"
     ]
    }
   ],
   "source": [
    "from skisg.interp.sparse.nbhors import compute_B, compute_comb_B_diag\n",
    "from gpytorch.lazy import MatmulLazyTensor\n",
    "\n",
    "ndim = 2\n",
    "npoints = 160 + 1\n",
    "\n",
    "on_sparse_grid = False\n",
    "\n",
    "basis = SgBasisType.MODIFIED\n",
    "interp_type = InterpType.SIMPLEX #CUBIC\n",
    "\n",
    "comb = True\n",
    "ndimpoints = 11\n",
    "epsilon = 10**(-7)\n",
    "x1s = np.linspace(0 + epsilon, 1 - epsilon, num=ndimpoints)\n",
    "x2s = np.linspace(0 + epsilon, 1 - epsilon, num=ndimpoints)\n",
    "x1, x2 = np.meshgrid(x1s, x2s) # Generate grid\n",
    "X = np.vstack([x1.ravel(), x2.ravel()]).T\n",
    "npoints = X.shape[0]\n",
    "func = lambda x:  np.sin(np.pi*(x[:, 0] + x[:, 1]))\n",
    "\n",
    "# for gl in [8]:\n",
    "\n",
    "gl = 8\n",
    "order = compute_LI(gl, ndim, basis=basis, comb=comb, rmat=False)\n",
    "sg_locs = get_sg_points_nd(gl, ndim, basis, comb=comb, umin=0, umax=1, ordered=False)\n",
    "sg_locs = sg_locs[order, :]\n",
    "\n",
    "if on_sparse_grid:\n",
    "    X = torch.from_numpy(sg_locs)\n",
    "else:\n",
    "    X = torch.from_numpy(X)\n",
    "\n",
    "f_sg = torch.from_numpy(func(sg_locs)).reshape(-1, 1) #.to(torch.float32)\n",
    "# W = compute_W(X, gl, ndim, umin=0.0, umax=1.0, dtype=torch.float32, \n",
    "#               use_torch=True, comb=comb, interp_type=interp_type, basis=basis)   \n",
    "Phi = SparseInterpolation().sparse_interpolate(\n",
    "        grid_level=gl,\n",
    "        ndim=ndim, umin=0.0, umax=1.0,\n",
    "        x_target = X,\n",
    "        comb=comb,\n",
    "        interp_type=interp_type,\n",
    "        basis=basis\n",
    ")\n",
    "\n",
    "B = compute_comb_B_diag(gl, ndim, basis=basis, device=X.device, dtype=X.dtype)\n",
    "W = MatmulLazyTensor(Phi, B)\n",
    "    \n",
    "f_h = W.matmul(f_sg).detach().numpy().reshape(-1)\n",
    "\n",
    "if not on_sparse_grid:\n",
    "    figsize=(8, 8)\n",
    "    vmin=-10\n",
    "    vmax=12\n",
    "    fig, axs = plt.subplots(1, 2, figsize=figsize)    \n",
    "    aax = axs[0].matshow(func(X).reshape(ndimpoints, ndimpoints)) #,vmin=-1, vmax=1)\n",
    "    fig.colorbar(aax, ax=axs[0])\n",
    "    aax = axs[1].matshow(f_h.reshape(ndimpoints, ndimpoints)) #, vmin=-1, vmax=1)\n",
    "    fig.colorbar(aax, ax=axs[1])\n",
    "    plt.xlabel('Gl = ' + str(gl))\n",
    "    plt.show()\n",
    "print(\"GL\", gl, \"MSE:\", np.mean(np.abs(func(X).numpy() - f_h)), np.mean(np.abs(func(X).numpy())))"
   ]
  },
  {
   "cell_type": "code",
   "execution_count": 5,
   "metadata": {},
   "outputs": [
    {
     "name": "stdout",
     "output_type": "stream",
     "text": [
      "\n",
      "\n",
      " InterpType.LINEAR SgBasisType.MODIFIED\n",
      "GL 5 MSE: 0.5548153261925668 Func energy:  0.6104497943554834\n",
      "GL 7 MSE: 0.1437170865379411 Func energy:  0.6104497943554834\n",
      "GL 9 MSE: 0.017104308545588025 Func energy:  0.6104497943554834\n",
      "\n",
      "\n",
      " InterpType.CUBIC SgBasisType.MODIFIED\n",
      "GL 5 MSE: 0.6855016187041785 Func energy:  0.6104497943554834\n",
      "GL 7 MSE: 0.04948512743105769 Func energy:  0.6104497943554834\n",
      "GL 9 MSE: 0.0008067773140260803 Func energy:  0.6104497943554834\n",
      "\n",
      "\n",
      " InterpType.SIMPLEX SgBasisType.MODIFIED\n",
      "GL 5 MSE: 0.7975096242602145 Func energy:  0.6104497943554834\n",
      "GL 7 MSE: 0.3141527459399511 Func energy:  0.6104497943554834\n",
      "GL 9 MSE: 0.13437957173957507 Func energy:  0.6104497943554834\n"
     ]
    }
   ],
   "source": [
    "## Testing interpolation for 2-D sine function \n",
    "def plots_results(comb=False, interp_type=InterpType.LINEAR, basis=SgBasisType.NAIVE):\n",
    "    ndim = 2\n",
    "    npoints = 160 + 1\n",
    "\n",
    "    ndimpoints = 11\n",
    "    epsilon = 10**(-7)\n",
    "    x1s = np.linspace(0 + epsilon, 1 - epsilon, num=ndimpoints)\n",
    "    x2s = np.linspace(0 + epsilon, 1 - epsilon, num=ndimpoints)\n",
    "    x1, x2 = np.meshgrid(x1s, x2s) # Generate grid\n",
    "    X = np.vstack([x1.ravel(), x2.ravel()]).T\n",
    "    npoints = X.shape[0]\n",
    "    func = lambda x: np.sin(4*np.pi*(x[:, 0] + x[:, 1]))\n",
    "\n",
    "    X = torch.from_numpy(X)\n",
    "    \n",
    "    for gl in range(5, 10, 2):\n",
    "\n",
    "        order = compute_LI(gl, ndim, basis=basis, comb=comb, rmat=False)\n",
    "        sg_locs = get_sg_points_nd(gl, ndim, basis, comb=comb, umin=-0.2, umax=1.2, ordered=False)\n",
    "        sg_locs = sg_locs[order, :]\n",
    "        f_sg = torch.from_numpy(func(sg_locs)).reshape(-1, 1).to(torch.float32)\n",
    "        \n",
    "        Phi = SparseInterpolation().sparse_interpolate(\n",
    "        grid_level=gl,\n",
    "        ndim=ndim, umin=-0.2, umax=1.2,\n",
    "        x_target = X,\n",
    "        comb=comb,\n",
    "        interp_type=interp_type,\n",
    "        basis=basis\n",
    "        )\n",
    "\n",
    "        B = compute_comb_B_diag(gl, ndim, basis=basis, device=X.device, dtype=X.dtype)\n",
    "        W = MatmulLazyTensor(Phi, B)\n",
    "\n",
    "        # W = compute_W(torch.from_numpy(X), gl, ndim, umin=-0.2, umax=1.2, dtype=torch.float32, \n",
    "        #               use_torch=True, comb=comb, interp_type=interp_type, basis=basis)            \n",
    "        f_h = W.matmul(f_sg).detach().numpy()\n",
    "    \n",
    "        print(\"GL\", gl, \"MSE:\", np.mean(np.abs(f_h.squeeze() - func(X).numpy())), \n",
    "              \"Func energy: \", np.mean(np.abs(func(X).numpy())))\n",
    "\n",
    "\n",
    "# Combination interpolation \n",
    "for interp_type in [InterpType.LINEAR, InterpType.CUBIC, InterpType.SIMPLEX]:\n",
    "    for basis in [SgBasisType.MODIFIED]: #, SgBasisType.BOUNDSTART]:\n",
    "\n",
    "        print(\"\\n\\n\",interp_type, basis)\n",
    "        plots_results(comb=True, interp_type=interp_type, basis=basis)"
   ]
  },
  {
   "cell_type": "code",
   "execution_count": null,
   "metadata": {},
   "outputs": [],
   "source": []
  }
 ],
 "metadata": {
  "kernelspec": {
   "display_name": "Python 3 (ipykernel)",
   "language": "python",
   "name": "python3"
  },
  "language_info": {
   "codemirror_mode": {
    "name": "ipython",
    "version": 3
   },
   "file_extension": ".py",
   "mimetype": "text/x-python",
   "name": "python",
   "nbconvert_exporter": "python",
   "pygments_lexer": "ipython3",
   "version": "3.10.6"
  }
 },
 "nbformat": 4,
 "nbformat_minor": 4
}
